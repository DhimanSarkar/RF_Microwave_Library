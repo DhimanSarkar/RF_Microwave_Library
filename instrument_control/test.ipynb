{
 "cells": [
  {
   "cell_type": "code",
   "execution_count": null,
   "metadata": {},
   "outputs": [],
   "source": [
    "# import dataexport\n",
    "# meas_data = dataexport.dataexport()\n",
    "# meas_data.export2excel(file = 'C:\\\\Users\\\\GEECI\\\\Downloads\\\\data.xlsx')\n",
    "# meas_data.put([1,2,3,4,5,6])\n",
    "# meas_data.put([4,6,2,7,9,3])"
   ]
  },
  {
   "cell_type": "code",
   "execution_count": 194,
   "metadata": {},
   "outputs": [
    {
     "name": "stdout",
     "output_type": "stream",
     "text": [
      "      freq  pin  pout\n",
      "index                \n",
      "0        a    1     2\n",
      "1        a    3     4\n",
      "       freq  pin  pout\n",
      "index                 \n",
      "0         2    5     6\n",
      "1         2    7     8\n"
     ]
    }
   ],
   "source": [
    "import pandas\n",
    "\n",
    "df1 = pandas.DataFrame(columns=['pin', 'pout'])\n",
    "df2 = pandas.DataFrame(columns=['pin', 'pout'])\n",
    "df1.index.names = ['index']\n",
    "df2.index.names = ['index']\n",
    "\n",
    "df1.loc[len(df1.index)] = [1,2]\n",
    "df1.loc[len(df1.index)] = [3,4]\n",
    "df2.loc[len(df2.index)] = [5,6]\n",
    "df2.loc[len(df2.index)] = [7,8]\n",
    "\n",
    "\n",
    "df1.insert(0,'freq','a')\n",
    "df2.insert(0,'freq',2)\n",
    "\n",
    "print(df1)\n",
    "print(df2)"
   ]
  },
  {
   "cell_type": "code",
   "execution_count": 200,
   "metadata": {},
   "outputs": [
    {
     "name": "stdout",
     "output_type": "stream",
     "text": [
      "            pin  pout\n",
      "freq index           \n",
      "2    0        5     6\n",
      "     1        7     8\n",
      "a    0        1     2\n",
      "     1        3     4\n"
     ]
    }
   ],
   "source": [
    "df = pandas.concat([df1,df2])\n",
    "\n",
    "df = df.set_index(['freq', df.index]).sort_index()\n",
    "df.index.names = ['freq', 'index']\n",
    "\n",
    "print(df)\n",
    "\n",
    "\n",
    "\n",
    "df.to_csv(r'D:\\RF_Microwave_Library\\out.csv')"
   ]
  }
 ],
 "metadata": {
  "kernelspec": {
   "display_name": "Python 3",
   "language": "python",
   "name": "python3"
  },
  "language_info": {
   "codemirror_mode": {
    "name": "ipython",
    "version": 3
   },
   "file_extension": ".py",
   "mimetype": "text/x-python",
   "name": "python",
   "nbconvert_exporter": "python",
   "pygments_lexer": "ipython3",
   "version": "3.13.0"
  }
 },
 "nbformat": 4,
 "nbformat_minor": 2
}
